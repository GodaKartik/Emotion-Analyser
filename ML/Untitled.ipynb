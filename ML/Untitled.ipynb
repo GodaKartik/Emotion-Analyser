{
 "cells": [
  {
   "cell_type": "code",
   "execution_count": 1,
   "id": "ce7e844c-8ce0-4644-8f1e-a9d8e2faa7c9",
   "metadata": {},
   "outputs": [],
   "source": [
    "import pickle\n",
    "import numpy as np"
   ]
  },
  {
   "cell_type": "code",
   "execution_count": 2,
   "id": "676d2da3-64ee-4297-ad65-c8acc89e70f5",
   "metadata": {},
   "outputs": [],
   "source": [
    "model_lr = pickle.load(open('lr.pkl','rb'))\n",
    "vect = pickle.load(open('vectorizer.pkl','rb'))"
   ]
  },
  {
   "cell_type": "code",
   "execution_count": 3,
   "id": "f24458ce-2a66-4d28-bc51-a9e7cdaf92d5",
   "metadata": {},
   "outputs": [],
   "source": [
    "sent = 'the rocks on the beach look depressing owing to their color and the positioning'"
   ]
  },
  {
   "cell_type": "code",
   "execution_count": 4,
   "id": "469617b9-b0c4-477d-a6ad-38c87e8560e3",
   "metadata": {},
   "outputs": [],
   "source": [
    "vector = vect.transform([sent])"
   ]
  },
  {
   "cell_type": "code",
   "execution_count": 5,
   "id": "9423a8e9-5533-4edf-84ae-0306e2fed862",
   "metadata": {},
   "outputs": [
    {
     "data": {
      "text/plain": [
       "'joy'"
      ]
     },
     "execution_count": 5,
     "metadata": {},
     "output_type": "execute_result"
    }
   ],
   "source": [
    "model_lr.predict(vector)[0]"
   ]
  },
  {
   "cell_type": "code",
   "execution_count": 6,
   "id": "85d956b6-5291-4316-bacd-705a62ed524b",
   "metadata": {},
   "outputs": [
    {
     "data": {
      "text/plain": [
       "array(['anger', 'fear', 'joy', 'love', 'sadness', 'surprise'],\n",
       "      dtype=object)"
      ]
     },
     "execution_count": 6,
     "metadata": {},
     "output_type": "execute_result"
    }
   ],
   "source": [
    "model_lr.classes_"
   ]
  },
  {
   "cell_type": "code",
   "execution_count": 7,
   "id": "4a905316-d5bd-483c-ad83-94efc35c8e81",
   "metadata": {},
   "outputs": [],
   "source": [
    "dct = dict(zip(\n",
    "    model_lr.classes_,\n",
    "    model_lr.predict_proba(vector)[0]*100\n",
    "))"
   ]
  },
  {
   "cell_type": "code",
   "execution_count": 8,
   "id": "5e79006d-9f7e-4fc7-992f-366a4b9cd61e",
   "metadata": {},
   "outputs": [
    {
     "data": {
      "text/plain": [
       "0.5444075835378236"
      ]
     },
     "execution_count": 8,
     "metadata": {},
     "output_type": "execute_result"
    }
   ],
   "source": [
    "np.max(model_lr.predict_proba(vector)[0])"
   ]
  },
  {
   "cell_type": "code",
   "execution_count": 9,
   "id": "d05470a7-4ddf-4a72-8b6c-c77f965b07fb",
   "metadata": {},
   "outputs": [],
   "source": [
    "for i in dct:\n",
    "    dct[i] = str(round(dct[i],2))+'%'"
   ]
  },
  {
   "cell_type": "code",
   "execution_count": 14,
   "id": "2aac6156-affd-4b1a-a753-bc9b310a2bcc",
   "metadata": {},
   "outputs": [
    {
     "name": "stdout",
     "output_type": "stream",
     "text": [
      "anger\n",
      "fear\n",
      "joy\n",
      "love\n",
      "sadness\n",
      "surprise\n"
     ]
    }
   ],
   "source": [
    "for key in dct:\n",
    "    print(key)"
   ]
  },
  {
   "cell_type": "code",
   "execution_count": null,
   "id": "2332ff3c-0d11-496f-9b63-e58deaa5cb7b",
   "metadata": {},
   "outputs": [],
   "source": []
  }
 ],
 "metadata": {
  "kernelspec": {
   "display_name": "Python 3 (ipykernel)",
   "language": "python",
   "name": "python3"
  },
  "language_info": {
   "codemirror_mode": {
    "name": "ipython",
    "version": 3
   },
   "file_extension": ".py",
   "mimetype": "text/x-python",
   "name": "python",
   "nbconvert_exporter": "python",
   "pygments_lexer": "ipython3",
   "version": "3.10.1"
  }
 },
 "nbformat": 4,
 "nbformat_minor": 5
}
