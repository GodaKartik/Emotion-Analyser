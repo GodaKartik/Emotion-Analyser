{
 "cells": [
  {
   "cell_type": "code",
   "execution_count": 2,
   "id": "d959f941-9fa5-4e02-9c82-978fa89504d0",
   "metadata": {},
   "outputs": [],
   "source": [
    "import re\n",
    "from collections import Counter\n",
    "\n",
    "import pandas as pd\n",
    "import matplotlib.pyplot as plt\n",
    "\n",
    "from nltk.corpus import stopwords\n",
    "from nltk.tokenize import word_tokenize\n",
    "from nltk.sentiment.vader import SentimentIntensityAnalyzer"
   ]
  },
  {
   "cell_type": "code",
   "execution_count": 3,
   "id": "70ac2734-8312-4631-824a-d8c3e9d4f4bf",
   "metadata": {},
   "outputs": [],
   "source": [
    "def sentimentFromEmotion(emotion):\n",
    "    if emotion in pos:\n",
    "        return 1\n",
    "    elif emotion in neg:\n",
    "        return -1\n",
    "\n",
    "def plotFreq_bar(array):\n",
    "    count = Counter(array)\n",
    "    plt.bar(count.keys(), count.values())\n",
    "    plt.show()\n",
    "\n",
    "def getPolarity(text):\n",
    "    sia = SentimentIntensityAnalyzer()\n",
    "    return sia.polarity_scores(text)['compound']\n",
    "\n",
    "def makePolarityColumn(dataframe, emotion_col, polarity_col_name):\n",
    "    dataframe[polarity_col_name] = dataframe[emotion_col].apply(getPolarity)\n",
    "    \n",
    "def lowerCase(text):\n",
    "    return text.lower()\n",
    "\n",
    "def removeStopwords(text):\n",
    "    tokens = word_tokenize(text)\n",
    "    cleaned = [token for token in tokens if token not in stopwords.words('english')]\n",
    "    return \" \".join(cleaned)\n",
    "\n",
    "def clearUsernames(text):\n",
    "    text = re.sub('@[^\\s]+',' ',text)\n",
    "    return text"
   ]
  },
  {
   "cell_type": "code",
   "execution_count": 4,
   "id": "52c151b7-839b-46ab-b0e4-f1aae389200a",
   "metadata": {},
   "outputs": [],
   "source": [
    "df = pd.read_pickle('merged_training.pkl')"
   ]
  },
  {
   "cell_type": "code",
   "execution_count": 6,
   "id": "7bdff135-23c9-40db-958a-c3dc145362f9",
   "metadata": {},
   "outputs": [],
   "source": [
    "df.to_csv('4.1L_emotion_data.csv')"
   ]
  },
  {
   "cell_type": "code",
   "execution_count": 9,
   "id": "e3ba8cf9-558e-4362-858f-5b5aad8abaa2",
   "metadata": {},
   "outputs": [
    {
     "data": {
      "text/html": [
       "<div>\n",
       "<style scoped>\n",
       "    .dataframe tbody tr th:only-of-type {\n",
       "        vertical-align: middle;\n",
       "    }\n",
       "\n",
       "    .dataframe tbody tr th {\n",
       "        vertical-align: top;\n",
       "    }\n",
       "\n",
       "    .dataframe thead th {\n",
       "        text-align: right;\n",
       "    }\n",
       "</style>\n",
       "<table border=\"1\" class=\"dataframe\">\n",
       "  <thead>\n",
       "    <tr style=\"text-align: right;\">\n",
       "      <th></th>\n",
       "      <th>text</th>\n",
       "      <th>emotions</th>\n",
       "    </tr>\n",
       "  </thead>\n",
       "  <tbody>\n",
       "    <tr>\n",
       "      <th>27383</th>\n",
       "      <td>i feel awful about it too because it s my job ...</td>\n",
       "      <td>sadness</td>\n",
       "    </tr>\n",
       "    <tr>\n",
       "      <th>110083</th>\n",
       "      <td>im alone i feel awful</td>\n",
       "      <td>sadness</td>\n",
       "    </tr>\n",
       "    <tr>\n",
       "      <th>140764</th>\n",
       "      <td>ive probably mentioned this before but i reall...</td>\n",
       "      <td>joy</td>\n",
       "    </tr>\n",
       "    <tr>\n",
       "      <th>100071</th>\n",
       "      <td>i was feeling a little low few days back</td>\n",
       "      <td>sadness</td>\n",
       "    </tr>\n",
       "    <tr>\n",
       "      <th>2837</th>\n",
       "      <td>i beleive that i am much more sensitive to oth...</td>\n",
       "      <td>love</td>\n",
       "    </tr>\n",
       "  </tbody>\n",
       "</table>\n",
       "</div>"
      ],
      "text/plain": [
       "                                                     text emotions\n",
       "27383   i feel awful about it too because it s my job ...  sadness\n",
       "110083                              im alone i feel awful  sadness\n",
       "140764  ive probably mentioned this before but i reall...      joy\n",
       "100071           i was feeling a little low few days back  sadness\n",
       "2837    i beleive that i am much more sensitive to oth...     love"
      ]
     },
     "execution_count": 9,
     "metadata": {},
     "output_type": "execute_result"
    }
   ],
   "source": [
    "df.head()"
   ]
  },
  {
   "cell_type": "code",
   "execution_count": 10,
   "id": "5307419e-7641-460d-a377-6696fb1e56eb",
   "metadata": {},
   "outputs": [
    {
     "name": "stdout",
     "output_type": "stream",
     "text": [
      "CPU times: user 181 ms, sys: 41.4 ms, total: 222 ms\n",
      "Wall time: 267 ms\n"
     ]
    }
   ],
   "source": [
    "%%time\n",
    "df['text'] = df.text.apply(lowerCase) # for case uniformity"
   ]
  },
  {
   "cell_type": "code",
   "execution_count": 11,
   "id": "f7fbfe8f-586c-4d92-8778-3b52f4c05cc0",
   "metadata": {},
   "outputs": [
    {
     "name": "stdout",
     "output_type": "stream",
     "text": [
      "CPU times: user 563 ms, sys: 12.8 ms, total: 576 ms\n",
      "Wall time: 608 ms\n"
     ]
    }
   ],
   "source": [
    "%%time\n",
    "df['text'] = df.text.apply(clearUsernames) # for noise reduction"
   ]
  },
  {
   "cell_type": "code",
   "execution_count": 12,
   "id": "9b8ca960-e2b9-4942-a2d0-585e72dfbb5d",
   "metadata": {},
   "outputs": [
    {
     "name": "stdout",
     "output_type": "stream",
     "text": [
      "CPU times: user 17min 58s, sys: 4min 37s, total: 22min 35s\n",
      "Wall time: 23min 14s\n"
     ]
    }
   ],
   "source": [
    "%%time\n",
    "df['text'] = df.text.apply(removeStopwords) # for noise reduction"
   ]
  },
  {
   "cell_type": "code",
   "execution_count": 15,
   "id": "43aa4c31-b66b-4122-8332-8895ace49560",
   "metadata": {},
   "outputs": [
    {
     "data": {
      "text/plain": [
       "array(['sadness', 'joy', 'love', 'anger', 'fear', 'surprise'],\n",
       "      dtype=object)"
      ]
     },
     "execution_count": 15,
     "metadata": {},
     "output_type": "execute_result"
    }
   ],
   "source": [
    "df['emotions'].unique()"
   ]
  },
  {
   "cell_type": "code",
   "execution_count": 21,
   "id": "513c8ad9-749f-4274-a75b-9ff1b9992aed",
   "metadata": {},
   "outputs": [],
   "source": [
    "pos = ['joy', 'love', 'surprise']\n",
    "neg = ['sadness', 'fear',]"
   ]
  },
  {
   "cell_type": "code",
   "execution_count": 22,
   "id": "b8b7bc9d-4559-41fd-805c-453ce0f4c579",
   "metadata": {},
   "outputs": [
    {
     "name": "stdout",
     "output_type": "stream",
     "text": [
      "CPU times: user 153 ms, sys: 13 ms, total: 166 ms\n",
      "Wall time: 174 ms\n"
     ]
    }
   ],
   "source": [
    "%%time\n",
    "df['sentiment'] = df['emotions'].apply(sentimentFromEmotion)"
   ]
  },
  {
   "cell_type": "code",
   "execution_count": 24,
   "id": "d888e5f0-18dd-4041-a0b8-2bc4b8522310",
   "metadata": {},
   "outputs": [
    {
     "name": "stdout",
     "output_type": "stream",
     "text": [
      "CPU times: user 47min 50s, sys: 26 s, total: 48min 16s\n",
      "Wall time: 49min 2s\n"
     ]
    }
   ],
   "source": [
    "%%time\n",
    "makePolarityColumn(df, 'emotions', 'polarity')"
   ]
  },
  {
   "cell_type": "code",
   "execution_count": 25,
   "id": "f476a0ad-a29b-4e71-a6d8-a1ee38605708",
   "metadata": {},
   "outputs": [
    {
     "data": {
      "image/png": "[encoded data removed]",
      "text/plain": [
       "<Figure size 640x480 with 1 Axes>"
      ]
     },
     "metadata": {},
     "output_type": "display_data"
    }
   ],
   "source": [
    "plotFreq_bar(df.emotions)"
   ]
  },
  {
   "cell_type": "code",
   "execution_count": 26,
   "id": "bf18495b-ca49-485c-b1b0-6ac23c3b154b",
   "metadata": {},
   "outputs": [
    {
     "data": {
      "text/html": [
       "<div>\n",
       "<style scoped>\n",
       "    .dataframe tbody tr th:only-of-type {\n",
       "        vertical-align: middle;\n",
       "    }\n",
       "\n",
       "    .dataframe tbody tr th {\n",
       "        vertical-align: top;\n",
       "    }\n",
       "\n",
       "    .dataframe thead th {\n",
       "        text-align: right;\n",
       "    }\n",
       "</style>\n",
       "<table border=\"1\" class=\"dataframe\">\n",
       "  <thead>\n",
       "    <tr style=\"text-align: right;\">\n",
       "      <th></th>\n",
       "      <th>text</th>\n",
       "      <th>emotions</th>\n",
       "      <th>sentiment</th>\n",
       "      <th>polarity</th>\n",
       "    </tr>\n",
       "  </thead>\n",
       "  <tbody>\n",
       "    <tr>\n",
       "      <th>27383</th>\n",
       "      <td>feel awful job get position succeed happen</td>\n",
       "      <td>sadness</td>\n",
       "      <td>-1.0</td>\n",
       "      <td>-0.4404</td>\n",
       "    </tr>\n",
       "    <tr>\n",
       "      <th>110083</th>\n",
       "      <td>im alone feel awful</td>\n",
       "      <td>sadness</td>\n",
       "      <td>-1.0</td>\n",
       "      <td>-0.4404</td>\n",
       "    </tr>\n",
       "    <tr>\n",
       "      <th>140764</th>\n",
       "      <td>ive probably mentioned really feel proud actua...</td>\n",
       "      <td>joy</td>\n",
       "      <td>1.0</td>\n",
       "      <td>0.5859</td>\n",
       "    </tr>\n",
       "    <tr>\n",
       "      <th>100071</th>\n",
       "      <td>feeling little low days back</td>\n",
       "      <td>sadness</td>\n",
       "      <td>-1.0</td>\n",
       "      <td>-0.4404</td>\n",
       "    </tr>\n",
       "    <tr>\n",
       "      <th>2837</th>\n",
       "      <td>beleive much sensitive peoples feelings tend c...</td>\n",
       "      <td>love</td>\n",
       "      <td>1.0</td>\n",
       "      <td>0.6369</td>\n",
       "    </tr>\n",
       "  </tbody>\n",
       "</table>\n",
       "</div>"
      ],
      "text/plain": [
       "                                                     text emotions  sentiment  \\\n",
       "27383          feel awful job get position succeed happen  sadness       -1.0   \n",
       "110083                                im alone feel awful  sadness       -1.0   \n",
       "140764  ive probably mentioned really feel proud actua...      joy        1.0   \n",
       "100071                       feeling little low days back  sadness       -1.0   \n",
       "2837    beleive much sensitive peoples feelings tend c...     love        1.0   \n",
       "\n",
       "        polarity  \n",
       "27383    -0.4404  \n",
       "110083   -0.4404  \n",
       "140764    0.5859  \n",
       "100071   -0.4404  \n",
       "2837      0.6369  "
      ]
     },
     "execution_count": 26,
     "metadata": {},
     "output_type": "execute_result"
    }
   ],
   "source": [
    "df.head()"
   ]
  },
  {
   "cell_type": "code",
   "execution_count": 28,
   "id": "165f2766-72d4-48f1-bf88-0f885313b81f",
   "metadata": {},
   "outputs": [],
   "source": [
    "positive_df = df.loc[df['polarity'] > 0]\n",
    "negative_df = df.loc[df['polarity'] < 0]\n",
    "neutral_df  = df.loc[df['polarity'] == 0]"
   ]
  },
  {
   "cell_type": "code",
   "execution_count": 30,
   "id": "11b2019b-cb22-4f03-bed8-fbbae3216551",
   "metadata": {},
   "outputs": [
    {
     "data": {
      "text/plain": [
       "array(['joy', 'love', 'surprise'], dtype=object)"
      ]
     },
     "execution_count": 30,
     "metadata": {},
     "output_type": "execute_result"
    }
   ],
   "source": [
    "positive_df.emotions.unique() # to check if any negative or neutral emotions creeped in"
   ]
  },
  {
   "cell_type": "code",
   "execution_count": 32,
   "id": "d73c0f69-f64e-43f7-84c2-3e90bc254d32",
   "metadata": {},
   "outputs": [
    {
     "data": {
      "text/plain": [
       "array(['sadness', 'anger', 'fear'], dtype=object)"
      ]
     },
     "execution_count": 32,
     "metadata": {},
     "output_type": "execute_result"
    }
   ],
   "source": [
    "negative_df.emotions.unique() # to check if any positive or neutral emotions creeped in"
   ]
  },
  {
   "cell_type": "code",
   "execution_count": 33,
   "id": "86eedc9e-78ed-494e-b750-928b5c2c0273",
   "metadata": {},
   "outputs": [],
   "source": [
    "df.to_csv('4.1LCleaned.csv')"
   ]
  }
 ],
 "metadata": {
  "kernelspec": {
   "display_name": "Python 3 (ipykernel)",
   "language": "python",
   "name": "python3"
  },
  "language_info": {
   "codemirror_mode": {
    "name": "ipython",
    "version": 3
   },
   "file_extension": ".py",
   "mimetype": "text/x-python",
   "name": "python",
   "nbconvert_exporter": "python",
   "pygments_lexer": "ipython3",
   "version": "3.10.1"
  }
 },
 "nbformat": 4,
 "nbformat_minor": 5
}
